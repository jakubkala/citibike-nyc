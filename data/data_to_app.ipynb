{
 "cells": [
  {
   "cell_type": "markdown",
   "metadata": {},
   "source": [
    "## Skrypt przetwarzający dane do aplikacji:\n",
    "\n",
    "#### Rok 2017"
   ]
  },
  {
   "cell_type": "code",
   "execution_count": 42,
   "metadata": {},
   "outputs": [
    {
     "name": "stderr",
     "output_type": "stream",
     "text": [
      "100%|██████████| 1/1 [00:01<00:00,  1.43s/it]\n",
      "100%|██████████| 1/1 [00:01<00:00,  1.60s/it]\n",
      "100%|██████████| 1/1 [00:01<00:00,  1.36s/it]\n",
      "100%|██████████| 1/1 [00:02<00:00,  2.39s/it]\n",
      "100%|██████████| 1/1 [00:02<00:00,  2.73s/it]\n",
      "100%|██████████| 1/1 [00:02<00:00,  2.92s/it]\n",
      "100%|██████████| 1/1 [00:03<00:00,  3.02s/it]\n",
      "100%|██████████| 1/1 [00:03<00:00,  3.46s/it]\n",
      "100%|██████████| 1/1 [00:03<00:00,  3.25s/it]\n",
      "100%|██████████| 1/1 [00:03<00:00,  3.34s/it]\n",
      "100%|██████████| 1/1 [00:04<00:00,  4.79s/it]\n",
      "100%|██████████| 1/1 [00:04<00:00,  4.85s/it]\n"
     ]
    }
   ],
   "source": [
    "from scripts.dataloader import  DataLoader\n",
    "import pandas as pd\n",
    "\n",
    "for i in range(1,13):\n",
    "    \n",
    "    if i < 10:\n",
    "        file = \"20170\" + str(i) + \"-citibike-tripdata.csv\"\n",
    "    else:\n",
    "        file = \"2017\" + str(i) + \"-citibike-tripdata.csv\"\n",
    "        \n",
    "    dl = DataLoader(\"data\",\n",
    "                [file])\n",
    "\n",
    "    dl.load_data()\n",
    "    stations = dl.load_stations()\n",
    "    station_counts = dl.load_station_counts()\n",
    "    station_counts = station_counts.merge(stations,how = 'inner', on='station id')\n",
    "    station_counts['label'] = station_counts['station name'] + \" bikes rental count: \" + station_counts['count'].astype('str')\n",
    "\n",
    "\n",
    "\n",
    "    station_hour_count = station_counts['count'].groupby([station_counts['station name'],\n",
    "                                  station_counts['hour'],station_counts['date']]).sum().reset_index()\n",
    "\n",
    "    # end_station_hour_count\n",
    "    end_station_counts = dl.load_end_station_counts()\n",
    "    end_station_counts = end_station_counts.merge(stations,how = 'inner', on='station id')\n",
    "    end_station_hour_count = end_station_counts['count'].groupby([end_station_counts['station name'],\n",
    "                                  end_station_counts['hour'],end_station_counts['date']]).sum().reset_index()\n",
    "\n",
    "    stations.to_csv(\"data/to_app/stations\" + file[0:6] + \".csv\",index=False)\n",
    "    station_counts.to_csv(\"data/to_app/station_counts\" + file[0:6] + \".csv\",index=False)\n",
    "    station_hour_count.to_csv(\"data/to_app/station_hour_count\" + file[0:6] + \".csv\",index=False)\n",
    "    end_station_hour_count.to_csv(\"data/to_app/end_station_hour_count\" + file[0:6] + \".csv\",index=False)\n"
   ]
  },
  {
   "cell_type": "code",
   "execution_count": 41,
   "metadata": {},
   "outputs": [
    {
     "name": "stderr",
     "output_type": "stream",
     "text": [
      "100%|██████████| 1/1 [00:04<00:00,  4.54s/it]\n",
      "100%|██████████| 1/1 [00:05<00:00,  5.56s/it]\n",
      "100%|██████████| 1/1 [00:08<00:00,  8.14s/it]\n",
      "100%|██████████| 1/1 [00:08<00:00,  8.98s/it]\n",
      "100%|██████████| 1/1 [00:08<00:00,  8.24s/it]\n",
      "100%|██████████| 1/1 [00:09<00:00,  9.31s/it]\n",
      "100%|██████████| 1/1 [00:09<00:00,  9.08s/it]\n",
      "100%|██████████| 1/1 [00:08<00:00,  8.08s/it]\n",
      "100%|██████████| 1/1 [00:05<00:00,  5.69s/it]\n",
      "100%|██████████| 1/1 [00:04<00:00,  4.66s/it]\n"
     ]
    }
   ],
   "source": [
    "from scripts.dataloader import  DataLoader\n",
    "import pandas as pd\n",
    "\n",
    "for i in range(3,13):\n",
    "    \n",
    "    if i < 10:\n",
    "        file = \"20180\" + str(i) + \"-citibike-tripdata.csv\"\n",
    "    else:\n",
    "        file = \"2018\" + str(i) + \"-citibike-tripdata.csv\"\n",
    "        \n",
    "    dl = DataLoader(\"data\",\n",
    "                [file])\n",
    "\n",
    "    dl.load_data()\n",
    "    stations = dl.load_stations()\n",
    "    station_counts = dl.load_station_counts()\n",
    "    station_counts = station_counts.merge(stations,how = 'inner', on='station id')\n",
    "    station_counts['label'] = station_counts['station name'] + \" bikes rental count: \" + station_counts['count'].astype('str')\n",
    "\n",
    "\n",
    "\n",
    "    station_hour_count = station_counts['count'].groupby([station_counts['station name'],\n",
    "                                  station_counts['hour'],station_counts['date']]).sum().reset_index()\n",
    "\n",
    "    # end_station_hour_count\n",
    "    end_station_counts = dl.load_end_station_counts()\n",
    "    end_station_counts = end_station_counts.merge(stations,how = 'inner', on='station id')\n",
    "    end_station_hour_count = end_station_counts['count'].groupby([end_station_counts['station name'],\n",
    "                                  end_station_counts['hour'],end_station_counts['date']]).sum().reset_index()\n",
    "\n",
    "    stations.to_csv(\"data/to_app/stations\" + file[0:6] + \".csv\",index=False)\n",
    "    station_counts.to_csv(\"data/to_app/station_counts\" + file[0:6] + \".csv\",index=False)\n",
    "    station_hour_count.to_csv(\"data/to_app/station_hour_count\" + file[0:6] + \".csv\",index=False)\n",
    "    end_station_hour_count.to_csv(\"data/to_app/end_station_hour_count\" + file[0:6] + \".csv\",index=False)\n"
   ]
  },
  {
   "cell_type": "code",
   "execution_count": null,
   "metadata": {},
   "outputs": [],
   "source": []
  },
  {
   "cell_type": "code",
   "execution_count": null,
   "metadata": {},
   "outputs": [],
   "source": []
  },
  {
   "cell_type": "code",
   "execution_count": null,
   "metadata": {},
   "outputs": [],
   "source": []
  }
 ],
 "metadata": {
  "kernelspec": {
   "display_name": "Python 3",
   "language": "python",
   "name": "python3"
  },
  "language_info": {
   "codemirror_mode": {
    "name": "ipython",
    "version": 3
   },
   "file_extension": ".py",
   "mimetype": "text/x-python",
   "name": "python",
   "nbconvert_exporter": "python",
   "pygments_lexer": "ipython3",
   "version": "3.6.9"
  }
 },
 "nbformat": 4,
 "nbformat_minor": 2
}
